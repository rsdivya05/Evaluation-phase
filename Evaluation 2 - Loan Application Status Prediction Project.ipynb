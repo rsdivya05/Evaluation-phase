{
 "cells": [
  {
   "cell_type": "markdown",
   "id": "a0ddeca6",
   "metadata": {},
   "source": [
    "# Second Phase Evaluation Project - Loan Application Status Prediction"
   ]
  },
  {
   "cell_type": "markdown",
   "id": "55fd0ea0",
   "metadata": {},
   "source": [
    "# Project Description\n",
    "\n",
    "This dataset includes details of applicants who have applied for loan. The dataset includes details like credit history, loan amount, their income, dependents etc. \n",
    "Independent Variables:\n",
    "    \n",
    "1.\tLoan_ID - This refer to the unique identifier of the applicant's affirmed purchases\n",
    "2.\tGender - This refers to either of the two main categories (male and female) into which applicants are divided on the basis of their reproductive functions\n",
    "3.\tMarried - This refers to applicant being in a state of matrimony\n",
    "4.\tDependents - This refres to persons who depends on the applicants for survival\n",
    "5.\tEducation - This refers to number of years in which applicant received systematic instruction, especially at a school or university\n",
    "6.\tSelf_Employed - This refers to applicant working for oneself as a freelancer or the owner of a business rather than for an employer\n",
    "7.\tApplicant Income - This refers to disposable income available for the applicant's use under State law.\n",
    "8.\tCoapplicantIncome - This refers to disposable income available for the people that participate in the loan application process alongside the main applicant use under State law.\n",
    "9.\tLoan_Amount - This refers to the amount of money an applicant owe at any given time.\n",
    "10.\tLoan_Amount_Term - This refers to the duaration in which the loan is availed to the applicant\n",
    "11.\tCredit History - This refers to a record of applicant's ability to repay debts and demonstrated responsibility in repaying them.\n",
    "12.\tProperty_Area - This refers to the total area within the boundaries of the property as set out in Schedule.\n",
    "13.\tLoan_Status - This refres to whether applicant is eligible to be availed the Loan requested.\n",
    "\n",
    "You have to build a model that can predict whether the loan of the applicant will be approved(Loan_status) or not on the basis of the details provided in the dataset. \n",
    "\n",
    "Dataset Link-  https://github.com/dsrscientist/DSData/blob/master/loan_prediction.csv\n"
   ]
  },
  {
   "cell_type": "code",
   "execution_count": 1,
   "id": "3a97646c",
   "metadata": {},
   "outputs": [],
   "source": [
    "import pandas as pd \n",
    "import numpy as np\n",
    "import matplotlib.pyplot as plt\n",
    "import seaborn as sns\n",
    "\n",
    "from sklearn.model_selection import train_test_split\n",
    "from sklearn.metrics import mean_squared_error, mean_absolute_error\n",
    "from sklearn.metrics import r2_score\n",
    "from sklearn.linear_model import LinearRegression\n",
    "\n",
    "\n",
    "import warnings\n",
    "warnings.filterwarnings('ignore')"
   ]
  },
  {
   "cell_type": "code",
   "execution_count": 2,
   "id": "cdc25fc5",
   "metadata": {},
   "outputs": [
    {
     "data": {
      "text/html": [
       "<div>\n",
       "<style scoped>\n",
       "    .dataframe tbody tr th:only-of-type {\n",
       "        vertical-align: middle;\n",
       "    }\n",
       "\n",
       "    .dataframe tbody tr th {\n",
       "        vertical-align: top;\n",
       "    }\n",
       "\n",
       "    .dataframe thead th {\n",
       "        text-align: right;\n",
       "    }\n",
       "</style>\n",
       "<table border=\"1\" class=\"dataframe\">\n",
       "  <thead>\n",
       "    <tr style=\"text-align: right;\">\n",
       "      <th></th>\n",
       "      <th>Loan_ID</th>\n",
       "      <th>Gender</th>\n",
       "      <th>Married</th>\n",
       "      <th>Dependents</th>\n",
       "      <th>Education</th>\n",
       "      <th>Self_Employed</th>\n",
       "      <th>ApplicantIncome</th>\n",
       "      <th>CoapplicantIncome</th>\n",
       "      <th>LoanAmount</th>\n",
       "      <th>Loan_Amount_Term</th>\n",
       "      <th>Credit_History</th>\n",
       "      <th>Property_Area</th>\n",
       "      <th>Loan_Status</th>\n",
       "    </tr>\n",
       "  </thead>\n",
       "  <tbody>\n",
       "    <tr>\n",
       "      <th>0</th>\n",
       "      <td>LP001002</td>\n",
       "      <td>Male</td>\n",
       "      <td>No</td>\n",
       "      <td>0</td>\n",
       "      <td>Graduate</td>\n",
       "      <td>No</td>\n",
       "      <td>5849</td>\n",
       "      <td>0.0</td>\n",
       "      <td>NaN</td>\n",
       "      <td>360.0</td>\n",
       "      <td>1.0</td>\n",
       "      <td>Urban</td>\n",
       "      <td>Y</td>\n",
       "    </tr>\n",
       "    <tr>\n",
       "      <th>1</th>\n",
       "      <td>LP001003</td>\n",
       "      <td>Male</td>\n",
       "      <td>Yes</td>\n",
       "      <td>1</td>\n",
       "      <td>Graduate</td>\n",
       "      <td>No</td>\n",
       "      <td>4583</td>\n",
       "      <td>1508.0</td>\n",
       "      <td>128.0</td>\n",
       "      <td>360.0</td>\n",
       "      <td>1.0</td>\n",
       "      <td>Rural</td>\n",
       "      <td>N</td>\n",
       "    </tr>\n",
       "    <tr>\n",
       "      <th>2</th>\n",
       "      <td>LP001005</td>\n",
       "      <td>Male</td>\n",
       "      <td>Yes</td>\n",
       "      <td>0</td>\n",
       "      <td>Graduate</td>\n",
       "      <td>Yes</td>\n",
       "      <td>3000</td>\n",
       "      <td>0.0</td>\n",
       "      <td>66.0</td>\n",
       "      <td>360.0</td>\n",
       "      <td>1.0</td>\n",
       "      <td>Urban</td>\n",
       "      <td>Y</td>\n",
       "    </tr>\n",
       "    <tr>\n",
       "      <th>3</th>\n",
       "      <td>LP001006</td>\n",
       "      <td>Male</td>\n",
       "      <td>Yes</td>\n",
       "      <td>0</td>\n",
       "      <td>Not Graduate</td>\n",
       "      <td>No</td>\n",
       "      <td>2583</td>\n",
       "      <td>2358.0</td>\n",
       "      <td>120.0</td>\n",
       "      <td>360.0</td>\n",
       "      <td>1.0</td>\n",
       "      <td>Urban</td>\n",
       "      <td>Y</td>\n",
       "    </tr>\n",
       "    <tr>\n",
       "      <th>4</th>\n",
       "      <td>LP001008</td>\n",
       "      <td>Male</td>\n",
       "      <td>No</td>\n",
       "      <td>0</td>\n",
       "      <td>Graduate</td>\n",
       "      <td>No</td>\n",
       "      <td>6000</td>\n",
       "      <td>0.0</td>\n",
       "      <td>141.0</td>\n",
       "      <td>360.0</td>\n",
       "      <td>1.0</td>\n",
       "      <td>Urban</td>\n",
       "      <td>Y</td>\n",
       "    </tr>\n",
       "    <tr>\n",
       "      <th>...</th>\n",
       "      <td>...</td>\n",
       "      <td>...</td>\n",
       "      <td>...</td>\n",
       "      <td>...</td>\n",
       "      <td>...</td>\n",
       "      <td>...</td>\n",
       "      <td>...</td>\n",
       "      <td>...</td>\n",
       "      <td>...</td>\n",
       "      <td>...</td>\n",
       "      <td>...</td>\n",
       "      <td>...</td>\n",
       "      <td>...</td>\n",
       "    </tr>\n",
       "    <tr>\n",
       "      <th>609</th>\n",
       "      <td>LP002978</td>\n",
       "      <td>Female</td>\n",
       "      <td>No</td>\n",
       "      <td>0</td>\n",
       "      <td>Graduate</td>\n",
       "      <td>No</td>\n",
       "      <td>2900</td>\n",
       "      <td>0.0</td>\n",
       "      <td>71.0</td>\n",
       "      <td>360.0</td>\n",
       "      <td>1.0</td>\n",
       "      <td>Rural</td>\n",
       "      <td>Y</td>\n",
       "    </tr>\n",
       "    <tr>\n",
       "      <th>610</th>\n",
       "      <td>LP002979</td>\n",
       "      <td>Male</td>\n",
       "      <td>Yes</td>\n",
       "      <td>3+</td>\n",
       "      <td>Graduate</td>\n",
       "      <td>No</td>\n",
       "      <td>4106</td>\n",
       "      <td>0.0</td>\n",
       "      <td>40.0</td>\n",
       "      <td>180.0</td>\n",
       "      <td>1.0</td>\n",
       "      <td>Rural</td>\n",
       "      <td>Y</td>\n",
       "    </tr>\n",
       "    <tr>\n",
       "      <th>611</th>\n",
       "      <td>LP002983</td>\n",
       "      <td>Male</td>\n",
       "      <td>Yes</td>\n",
       "      <td>1</td>\n",
       "      <td>Graduate</td>\n",
       "      <td>No</td>\n",
       "      <td>8072</td>\n",
       "      <td>240.0</td>\n",
       "      <td>253.0</td>\n",
       "      <td>360.0</td>\n",
       "      <td>1.0</td>\n",
       "      <td>Urban</td>\n",
       "      <td>Y</td>\n",
       "    </tr>\n",
       "    <tr>\n",
       "      <th>612</th>\n",
       "      <td>LP002984</td>\n",
       "      <td>Male</td>\n",
       "      <td>Yes</td>\n",
       "      <td>2</td>\n",
       "      <td>Graduate</td>\n",
       "      <td>No</td>\n",
       "      <td>7583</td>\n",
       "      <td>0.0</td>\n",
       "      <td>187.0</td>\n",
       "      <td>360.0</td>\n",
       "      <td>1.0</td>\n",
       "      <td>Urban</td>\n",
       "      <td>Y</td>\n",
       "    </tr>\n",
       "    <tr>\n",
       "      <th>613</th>\n",
       "      <td>LP002990</td>\n",
       "      <td>Female</td>\n",
       "      <td>No</td>\n",
       "      <td>0</td>\n",
       "      <td>Graduate</td>\n",
       "      <td>Yes</td>\n",
       "      <td>4583</td>\n",
       "      <td>0.0</td>\n",
       "      <td>133.0</td>\n",
       "      <td>360.0</td>\n",
       "      <td>0.0</td>\n",
       "      <td>Semiurban</td>\n",
       "      <td>N</td>\n",
       "    </tr>\n",
       "  </tbody>\n",
       "</table>\n",
       "<p>614 rows × 13 columns</p>\n",
       "</div>"
      ],
      "text/plain": [
       "      Loan_ID  Gender Married Dependents     Education Self_Employed  \\\n",
       "0    LP001002    Male      No          0      Graduate            No   \n",
       "1    LP001003    Male     Yes          1      Graduate            No   \n",
       "2    LP001005    Male     Yes          0      Graduate           Yes   \n",
       "3    LP001006    Male     Yes          0  Not Graduate            No   \n",
       "4    LP001008    Male      No          0      Graduate            No   \n",
       "..        ...     ...     ...        ...           ...           ...   \n",
       "609  LP002978  Female      No          0      Graduate            No   \n",
       "610  LP002979    Male     Yes         3+      Graduate            No   \n",
       "611  LP002983    Male     Yes          1      Graduate            No   \n",
       "612  LP002984    Male     Yes          2      Graduate            No   \n",
       "613  LP002990  Female      No          0      Graduate           Yes   \n",
       "\n",
       "     ApplicantIncome  CoapplicantIncome  LoanAmount  Loan_Amount_Term  \\\n",
       "0               5849                0.0         NaN             360.0   \n",
       "1               4583             1508.0       128.0             360.0   \n",
       "2               3000                0.0        66.0             360.0   \n",
       "3               2583             2358.0       120.0             360.0   \n",
       "4               6000                0.0       141.0             360.0   \n",
       "..               ...                ...         ...               ...   \n",
       "609             2900                0.0        71.0             360.0   \n",
       "610             4106                0.0        40.0             180.0   \n",
       "611             8072              240.0       253.0             360.0   \n",
       "612             7583                0.0       187.0             360.0   \n",
       "613             4583                0.0       133.0             360.0   \n",
       "\n",
       "     Credit_History Property_Area Loan_Status  \n",
       "0               1.0         Urban           Y  \n",
       "1               1.0         Rural           N  \n",
       "2               1.0         Urban           Y  \n",
       "3               1.0         Urban           Y  \n",
       "4               1.0         Urban           Y  \n",
       "..              ...           ...         ...  \n",
       "609             1.0         Rural           Y  \n",
       "610             1.0         Rural           Y  \n",
       "611             1.0         Urban           Y  \n",
       "612             1.0         Urban           Y  \n",
       "613             0.0     Semiurban           N  \n",
       "\n",
       "[614 rows x 13 columns]"
      ]
     },
     "execution_count": 2,
     "metadata": {},
     "output_type": "execute_result"
    }
   ],
   "source": [
    "Df= pd.read_csv(\"https://raw.githubusercontent.com/dsrscientist/DSData/master/loan_prediction.csv\")\n",
    "Df"
   ]
  },
  {
   "cell_type": "code",
   "execution_count": 3,
   "id": "372c3b07",
   "metadata": {},
   "outputs": [
    {
     "name": "stdout",
     "output_type": "stream",
     "text": [
      "<class 'pandas.core.frame.DataFrame'>\n",
      "RangeIndex: 614 entries, 0 to 613\n",
      "Data columns (total 13 columns):\n",
      " #   Column             Non-Null Count  Dtype  \n",
      "---  ------             --------------  -----  \n",
      " 0   Loan_ID            614 non-null    object \n",
      " 1   Gender             601 non-null    object \n",
      " 2   Married            611 non-null    object \n",
      " 3   Dependents         599 non-null    object \n",
      " 4   Education          614 non-null    object \n",
      " 5   Self_Employed      582 non-null    object \n",
      " 6   ApplicantIncome    614 non-null    int64  \n",
      " 7   CoapplicantIncome  614 non-null    float64\n",
      " 8   LoanAmount         592 non-null    float64\n",
      " 9   Loan_Amount_Term   600 non-null    float64\n",
      " 10  Credit_History     564 non-null    float64\n",
      " 11  Property_Area      614 non-null    object \n",
      " 12  Loan_Status        614 non-null    object \n",
      "dtypes: float64(4), int64(1), object(8)\n",
      "memory usage: 62.5+ KB\n"
     ]
    }
   ],
   "source": [
    "Df.info()"
   ]
  },
  {
   "cell_type": "code",
   "execution_count": 4,
   "id": "ee37109c",
   "metadata": {},
   "outputs": [
    {
     "data": {
      "text/plain": [
       "Index(['Loan_ID', 'Gender', 'Married', 'Dependents', 'Education',\n",
       "       'Self_Employed', 'ApplicantIncome', 'CoapplicantIncome', 'LoanAmount',\n",
       "       'Loan_Amount_Term', 'Credit_History', 'Property_Area', 'Loan_Status'],\n",
       "      dtype='object')"
      ]
     },
     "execution_count": 4,
     "metadata": {},
     "output_type": "execute_result"
    }
   ],
   "source": [
    "Df.columns"
   ]
  },
  {
   "cell_type": "code",
   "execution_count": 5,
   "id": "085e0d29",
   "metadata": {},
   "outputs": [
    {
     "data": {
      "text/plain": [
       "Loan_ID               object\n",
       "Gender                object\n",
       "Married               object\n",
       "Dependents            object\n",
       "Education             object\n",
       "Self_Employed         object\n",
       "ApplicantIncome        int64\n",
       "CoapplicantIncome    float64\n",
       "LoanAmount           float64\n",
       "Loan_Amount_Term     float64\n",
       "Credit_History       float64\n",
       "Property_Area         object\n",
       "Loan_Status           object\n",
       "dtype: object"
      ]
     },
     "execution_count": 5,
     "metadata": {},
     "output_type": "execute_result"
    }
   ],
   "source": [
    "Df.dtypes"
   ]
  },
  {
   "cell_type": "code",
   "execution_count": 6,
   "id": "10840141",
   "metadata": {},
   "outputs": [
    {
     "data": {
      "text/plain": [
       "Loan_ID               0\n",
       "Gender               13\n",
       "Married               3\n",
       "Dependents           15\n",
       "Education             0\n",
       "Self_Employed        32\n",
       "ApplicantIncome       0\n",
       "CoapplicantIncome     0\n",
       "LoanAmount           22\n",
       "Loan_Amount_Term     14\n",
       "Credit_History       50\n",
       "Property_Area         0\n",
       "Loan_Status           0\n",
       "dtype: int64"
      ]
     },
     "execution_count": 6,
     "metadata": {},
     "output_type": "execute_result"
    }
   ],
   "source": [
    "Df.isnull().sum()"
   ]
  },
  {
   "cell_type": "code",
   "execution_count": 7,
   "id": "158a9f09",
   "metadata": {},
   "outputs": [
    {
     "data": {
      "text/plain": [
       "Loan_Amount_Term     10\n",
       "Dependents            4\n",
       "LoanAmount          203\n",
       "dtype: int64"
      ]
     },
     "execution_count": 7,
     "metadata": {},
     "output_type": "execute_result"
    }
   ],
   "source": [
    "Df[[\"Loan_Amount_Term\",\"Dependents\", \"LoanAmount\"]].nunique()"
   ]
  },
  {
   "cell_type": "code",
   "execution_count": 8,
   "id": "12593e7f",
   "metadata": {},
   "outputs": [
    {
     "data": {
      "text/plain": [
       "Credit_History  CoapplicantIncome\n",
       "1.0             0.0                  213\n",
       "0.0             0.0                   41\n",
       "1.0             2083.0                 5\n",
       "                2500.0                 4\n",
       "                1666.0                 4\n",
       "                                    ... \n",
       "                1508.0                 1\n",
       "                1516.0                 1\n",
       "                1522.0                 1\n",
       "                1526.0                 1\n",
       "                33837.0                1\n",
       "Length: 270, dtype: int64"
      ]
     },
     "execution_count": 8,
     "metadata": {},
     "output_type": "execute_result"
    }
   ],
   "source": [
    "Df[[\"Credit_History\", \"CoapplicantIncome\"]].value_counts()"
   ]
  },
  {
   "cell_type": "code",
   "execution_count": 9,
   "id": "35f57e5b",
   "metadata": {},
   "outputs": [],
   "source": [
    "Df['Loan_Amount_Term'].fillna(Df['Loan_Amount_Term'].mode()[0], inplace=True)\n",
    "Df[\"Dependents\"].fillna(Df[\"Dependents\"].mode()[0], inplace=True)\n",
    "Df[\"Credit_History\"].fillna(Df[\"Credit_History\"].mode()[0], inplace=True)\n",
    "Df['Gender'].fillna(Df['Gender'].mode()[0], inplace=True)\n",
    "Df[\"Married\"].fillna(Df[\"Married\"].mode()[0], inplace=True)\n",
    "Df[\"Self_Employed\"].fillna(Df[\"Self_Employed\"].mode()[0], inplace=True)"
   ]
  },
  {
   "cell_type": "code",
   "execution_count": 10,
   "id": "6e8be56d",
   "metadata": {},
   "outputs": [],
   "source": [
    "Df[\"LoanAmount\"].fillna(Df[\"LoanAmount\"].mean(), inplace=True)"
   ]
  },
  {
   "cell_type": "code",
   "execution_count": 11,
   "id": "ce777cca",
   "metadata": {},
   "outputs": [
    {
     "data": {
      "text/plain": [
       "Loan_ID              0\n",
       "Gender               0\n",
       "Married              0\n",
       "Dependents           0\n",
       "Education            0\n",
       "Self_Employed        0\n",
       "ApplicantIncome      0\n",
       "CoapplicantIncome    0\n",
       "LoanAmount           0\n",
       "Loan_Amount_Term     0\n",
       "Credit_History       0\n",
       "Property_Area        0\n",
       "Loan_Status          0\n",
       "dtype: int64"
      ]
     },
     "execution_count": 11,
     "metadata": {},
     "output_type": "execute_result"
    }
   ],
   "source": [
    "Df.isnull().sum()"
   ]
  },
  {
   "cell_type": "code",
   "execution_count": 12,
   "id": "1d33e1f6",
   "metadata": {},
   "outputs": [
    {
     "data": {
      "text/plain": [
       "Y    422\n",
       "N    192\n",
       "Name: Loan_Status, dtype: int64"
      ]
     },
     "execution_count": 12,
     "metadata": {},
     "output_type": "execute_result"
    },
    {
     "data": {
      "image/png": "[encoded data removed]",
      "text/plain": [
       "<Figure size 432x288 with 1 Axes>"
      ]
     },
     "metadata": {
      "needs_background": "light"
     },
     "output_type": "display_data"
    }
   ],
   "source": [
    "sns.countplot(Df['Loan_Status'])\n",
    "Df.Loan_Status.value_counts()"
   ]
  },
  {
   "cell_type": "code",
   "execution_count": 13,
   "id": "279a10a0",
   "metadata": {
    "scrolled": true
   },
   "outputs": [
    {
     "data": {
      "text/plain": [
       "<AxesSubplot:xlabel='Gender', ylabel='Count'>"
      ]
     },
     "execution_count": 13,
     "metadata": {},
     "output_type": "execute_result"
    },
    {
     "data": {
      "image/png": "[encoded data removed]",
      "text/plain": [
       "<Figure size 432x288 with 1 Axes>"
      ]
     },
     "metadata": {
      "needs_background": "light"
     },
     "output_type": "display_data"
    }
   ],
   "source": [
    "sns.histplot(x =\"Gender\", hue=\"Loan_Status\", data = Df)"
   ]
  },
  {
   "cell_type": "code",
   "execution_count": 14,
   "id": "859ce4bd",
   "metadata": {},
   "outputs": [
    {
     "data": {
      "text/plain": [
       "<AxesSubplot:xlabel='Gender', ylabel='count'>"
      ]
     },
     "execution_count": 14,
     "metadata": {},
     "output_type": "execute_result"
    },
    {
     "data": {
      "image/png": "[encoded data removed]",
      "text/plain": [
       "<Figure size 432x288 with 1 Axes>"
      ]
     },
     "metadata": {
      "needs_background": "light"
     },
     "output_type": "display_data"
    }
   ],
   "source": [
    "sns.countplot(x = \"Gender\",  hue=\"Married\", data = Df)"
   ]
  },
  {
   "cell_type": "code",
   "execution_count": 15,
   "id": "4ea313b9",
   "metadata": {},
   "outputs": [
    {
     "data": {
      "text/html": [
       "<div>\n",
       "<style scoped>\n",
       "    .dataframe tbody tr th:only-of-type {\n",
       "        vertical-align: middle;\n",
       "    }\n",
       "\n",
       "    .dataframe tbody tr th {\n",
       "        vertical-align: top;\n",
       "    }\n",
       "\n",
       "    .dataframe thead th {\n",
       "        text-align: right;\n",
       "    }\n",
       "</style>\n",
       "<table border=\"1\" class=\"dataframe\">\n",
       "  <thead>\n",
       "    <tr style=\"text-align: right;\">\n",
       "      <th></th>\n",
       "      <th>ApplicantIncome</th>\n",
       "      <th>CoapplicantIncome</th>\n",
       "      <th>LoanAmount</th>\n",
       "      <th>Loan_Amount_Term</th>\n",
       "      <th>Credit_History</th>\n",
       "    </tr>\n",
       "  </thead>\n",
       "  <tbody>\n",
       "    <tr>\n",
       "      <th>count</th>\n",
       "      <td>614.000000</td>\n",
       "      <td>614.000000</td>\n",
       "      <td>614.000000</td>\n",
       "      <td>614.000000</td>\n",
       "      <td>614.000000</td>\n",
       "    </tr>\n",
       "    <tr>\n",
       "      <th>mean</th>\n",
       "      <td>5403.459283</td>\n",
       "      <td>1621.245798</td>\n",
       "      <td>146.412162</td>\n",
       "      <td>342.410423</td>\n",
       "      <td>0.855049</td>\n",
       "    </tr>\n",
       "    <tr>\n",
       "      <th>std</th>\n",
       "      <td>6109.041673</td>\n",
       "      <td>2926.248369</td>\n",
       "      <td>84.037468</td>\n",
       "      <td>64.428629</td>\n",
       "      <td>0.352339</td>\n",
       "    </tr>\n",
       "    <tr>\n",
       "      <th>min</th>\n",
       "      <td>150.000000</td>\n",
       "      <td>0.000000</td>\n",
       "      <td>9.000000</td>\n",
       "      <td>12.000000</td>\n",
       "      <td>0.000000</td>\n",
       "    </tr>\n",
       "    <tr>\n",
       "      <th>25%</th>\n",
       "      <td>2877.500000</td>\n",
       "      <td>0.000000</td>\n",
       "      <td>100.250000</td>\n",
       "      <td>360.000000</td>\n",
       "      <td>1.000000</td>\n",
       "    </tr>\n",
       "    <tr>\n",
       "      <th>50%</th>\n",
       "      <td>3812.500000</td>\n",
       "      <td>1188.500000</td>\n",
       "      <td>129.000000</td>\n",
       "      <td>360.000000</td>\n",
       "      <td>1.000000</td>\n",
       "    </tr>\n",
       "    <tr>\n",
       "      <th>75%</th>\n",
       "      <td>5795.000000</td>\n",
       "      <td>2297.250000</td>\n",
       "      <td>164.750000</td>\n",
       "      <td>360.000000</td>\n",
       "      <td>1.000000</td>\n",
       "    </tr>\n",
       "    <tr>\n",
       "      <th>max</th>\n",
       "      <td>81000.000000</td>\n",
       "      <td>41667.000000</td>\n",
       "      <td>700.000000</td>\n",
       "      <td>480.000000</td>\n",
       "      <td>1.000000</td>\n",
       "    </tr>\n",
       "  </tbody>\n",
       "</table>\n",
       "</div>"
      ],
      "text/plain": [
       "       ApplicantIncome  CoapplicantIncome  LoanAmount  Loan_Amount_Term  \\\n",
       "count       614.000000         614.000000  614.000000        614.000000   \n",
       "mean       5403.459283        1621.245798  146.412162        342.410423   \n",
       "std        6109.041673        2926.248369   84.037468         64.428629   \n",
       "min         150.000000           0.000000    9.000000         12.000000   \n",
       "25%        2877.500000           0.000000  100.250000        360.000000   \n",
       "50%        3812.500000        1188.500000  129.000000        360.000000   \n",
       "75%        5795.000000        2297.250000  164.750000        360.000000   \n",
       "max       81000.000000       41667.000000  700.000000        480.000000   \n",
       "\n",
       "       Credit_History  \n",
       "count      614.000000  \n",
       "mean         0.855049  \n",
       "std          0.352339  \n",
       "min          0.000000  \n",
       "25%          1.000000  \n",
       "50%          1.000000  \n",
       "75%          1.000000  \n",
       "max          1.000000  "
      ]
     },
     "execution_count": 15,
     "metadata": {},
     "output_type": "execute_result"
    }
   ],
   "source": [
    "Df.describe()"
   ]
  },
  {
   "cell_type": "markdown",
   "id": "94e7fb63",
   "metadata": {},
   "source": [
    "Here, we can observe that there is ample amount of diff. bet.% and max. Let's check more by doing EDA process."
   ]
  },
  {
   "cell_type": "code",
   "execution_count": 16,
   "id": "a47e070f",
   "metadata": {},
   "outputs": [
    {
     "data": {
      "text/html": [
       "<div>\n",
       "<style scoped>\n",
       "    .dataframe tbody tr th:only-of-type {\n",
       "        vertical-align: middle;\n",
       "    }\n",
       "\n",
       "    .dataframe tbody tr th {\n",
       "        vertical-align: top;\n",
       "    }\n",
       "\n",
       "    .dataframe thead th {\n",
       "        text-align: right;\n",
       "    }\n",
       "</style>\n",
       "<table border=\"1\" class=\"dataframe\">\n",
       "  <thead>\n",
       "    <tr style=\"text-align: right;\">\n",
       "      <th></th>\n",
       "      <th>ApplicantIncome</th>\n",
       "      <th>CoapplicantIncome</th>\n",
       "      <th>LoanAmount</th>\n",
       "      <th>Loan_Amount_Term</th>\n",
       "      <th>Credit_History</th>\n",
       "    </tr>\n",
       "  </thead>\n",
       "  <tbody>\n",
       "    <tr>\n",
       "      <th>ApplicantIncome</th>\n",
       "      <td>1.000000</td>\n",
       "      <td>-0.116605</td>\n",
       "      <td>0.565620</td>\n",
       "      <td>-0.046531</td>\n",
       "      <td>-0.018615</td>\n",
       "    </tr>\n",
       "    <tr>\n",
       "      <th>CoapplicantIncome</th>\n",
       "      <td>-0.116605</td>\n",
       "      <td>1.000000</td>\n",
       "      <td>0.187828</td>\n",
       "      <td>-0.059383</td>\n",
       "      <td>0.011134</td>\n",
       "    </tr>\n",
       "    <tr>\n",
       "      <th>LoanAmount</th>\n",
       "      <td>0.565620</td>\n",
       "      <td>0.187828</td>\n",
       "      <td>1.000000</td>\n",
       "      <td>0.036475</td>\n",
       "      <td>-0.001431</td>\n",
       "    </tr>\n",
       "    <tr>\n",
       "      <th>Loan_Amount_Term</th>\n",
       "      <td>-0.046531</td>\n",
       "      <td>-0.059383</td>\n",
       "      <td>0.036475</td>\n",
       "      <td>1.000000</td>\n",
       "      <td>-0.004705</td>\n",
       "    </tr>\n",
       "    <tr>\n",
       "      <th>Credit_History</th>\n",
       "      <td>-0.018615</td>\n",
       "      <td>0.011134</td>\n",
       "      <td>-0.001431</td>\n",
       "      <td>-0.004705</td>\n",
       "      <td>1.000000</td>\n",
       "    </tr>\n",
       "  </tbody>\n",
       "</table>\n",
       "</div>"
      ],
      "text/plain": [
       "                   ApplicantIncome  CoapplicantIncome  LoanAmount  \\\n",
       "ApplicantIncome           1.000000          -0.116605    0.565620   \n",
       "CoapplicantIncome        -0.116605           1.000000    0.187828   \n",
       "LoanAmount                0.565620           0.187828    1.000000   \n",
       "Loan_Amount_Term         -0.046531          -0.059383    0.036475   \n",
       "Credit_History           -0.018615           0.011134   -0.001431   \n",
       "\n",
       "                   Loan_Amount_Term  Credit_History  \n",
       "ApplicantIncome           -0.046531       -0.018615  \n",
       "CoapplicantIncome         -0.059383        0.011134  \n",
       "LoanAmount                 0.036475       -0.001431  \n",
       "Loan_Amount_Term           1.000000       -0.004705  \n",
       "Credit_History            -0.004705        1.000000  "
      ]
     },
     "execution_count": 16,
     "metadata": {},
     "output_type": "execute_result"
    }
   ],
   "source": [
    "Df.corr()"
   ]
  },
  {
   "cell_type": "code",
   "execution_count": 17,
   "id": "b5f64092",
   "metadata": {},
   "outputs": [
    {
     "data": {
      "text/plain": [
       "<AxesSubplot:>"
      ]
     },
     "execution_count": 17,
     "metadata": {},
     "output_type": "execute_result"
    },
    {
     "data": {
      "image/png": "[encoded data removed]",
      "text/plain": [
       "<Figure size 432x288 with 2 Axes>"
      ]
     },
     "metadata": {
      "needs_background": "light"
     },
     "output_type": "display_data"
    }
   ],
   "source": [
    "sns.heatmap(Df.corr(), annot = True)"
   ]
  },
  {
   "cell_type": "code",
   "execution_count": 18,
   "id": "12000e85",
   "metadata": {},
   "outputs": [
    {
     "data": {
      "image/png": "[encoded data removed]",
      "text/plain": [
       "<Figure size 720x360 with 1 Axes>"
      ]
     },
     "metadata": {
      "needs_background": "light"
     },
     "output_type": "display_data"
    }
   ],
   "source": [
    "plt.figure(figsize=(10,5))\n",
    "sns.barplot(x=\"Loan_Status\",y=\"ApplicantIncome\",data=Df)\n",
    "plt.show()"
   ]
  },
  {
   "cell_type": "code",
   "execution_count": 19,
   "id": "0a70369d",
   "metadata": {},
   "outputs": [
    {
     "data": {
      "text/plain": [
       "<AxesSubplot:xlabel='Loan_Status', ylabel='CoapplicantIncome'>"
      ]
     },
     "execution_count": 19,
     "metadata": {},
     "output_type": "execute_result"
    },
    {
     "data": {
      "image/png": "[encoded data removed]",
      "text/plain": [
       "<Figure size 432x288 with 1 Axes>"
      ]
     },
     "metadata": {
      "needs_background": "light"
     },
     "output_type": "display_data"
    }
   ],
   "source": [
    "sns.barplot(x=\"Loan_Status\",y= \"CoapplicantIncome\", data=Df)"
   ]
  },
  {
   "cell_type": "code",
   "execution_count": 20,
   "id": "c546e2e4",
   "metadata": {},
   "outputs": [
    {
     "data": {
      "text/plain": [
       "<AxesSubplot:xlabel='Dependents', ylabel='count'>"
      ]
     },
     "execution_count": 20,
     "metadata": {},
     "output_type": "execute_result"
    },
    {
     "data": {
      "image/png": "[encoded data removed]",
      "text/plain": [
       "<Figure size 432x288 with 1 Axes>"
      ]
     },
     "metadata": {
      "needs_background": "light"
     },
     "output_type": "display_data"
    }
   ],
   "source": [
    "sns.countplot(x=\"Dependents\",hue= \"Loan_Status\", data=Df)"
   ]
  },
  {
   "cell_type": "code",
   "execution_count": 21,
   "id": "096b2363",
   "metadata": {},
   "outputs": [
    {
     "data": {
      "text/plain": [
       "<AxesSubplot:xlabel='Education', ylabel='count'>"
      ]
     },
     "execution_count": 21,
     "metadata": {},
     "output_type": "execute_result"
    },
    {
     "data": {
      "image/png": "[encoded data removed]",
      "text/plain": [
       "<Figure size 432x288 with 1 Axes>"
      ]
     },
     "metadata": {
      "needs_background": "light"
     },
     "output_type": "display_data"
    }
   ],
   "source": [
    "sns.countplot(x=\"Education\",hue= \"Loan_Status\", data=Df)"
   ]
  },
  {
   "cell_type": "code",
   "execution_count": 22,
   "id": "879ef399",
   "metadata": {},
   "outputs": [
    {
     "data": {
      "text/plain": [
       "1.0    525\n",
       "0.0     89\n",
       "Name: Credit_History, dtype: int64"
      ]
     },
     "execution_count": 22,
     "metadata": {},
     "output_type": "execute_result"
    },
    {
     "data": {
      "image/png": "[encoded data removed]",
      "text/plain": [
       "<Figure size 432x288 with 1 Axes>"
      ]
     },
     "metadata": {
      "needs_background": "light"
     },
     "output_type": "display_data"
    }
   ],
   "source": [
    "sns.countplot(Df['Credit_History'])\n",
    "Df.Credit_History.value_counts()"
   ]
  },
  {
   "cell_type": "code",
   "execution_count": 23,
   "id": "56e33ae6",
   "metadata": {},
   "outputs": [
    {
     "data": {
      "text/plain": [
       "<AxesSubplot:xlabel='Self_Employed', ylabel='count'>"
      ]
     },
     "execution_count": 23,
     "metadata": {},
     "output_type": "execute_result"
    },
    {
     "data": {
      "image/png": "[encoded data removed]",
      "text/plain": [
       "<Figure size 432x288 with 1 Axes>"
      ]
     },
     "metadata": {
      "needs_background": "light"
     },
     "output_type": "display_data"
    }
   ],
   "source": [
    "sns.countplot(x=\"Self_Employed\",hue= \"Loan_Status\", data=Df)"
   ]
  },
  {
   "cell_type": "code",
   "execution_count": 24,
   "id": "feb3ddb4",
   "metadata": {},
   "outputs": [],
   "source": [
    "Df.drop([\"Loan_ID\"], axis=1, inplace = True)"
   ]
  },
  {
   "cell_type": "code",
   "execution_count": 25,
   "id": "996d6a15",
   "metadata": {},
   "outputs": [
    {
     "name": "stdout",
     "output_type": "stream",
     "text": [
      "<class 'pandas.core.frame.DataFrame'>\n",
      "RangeIndex: 614 entries, 0 to 613\n",
      "Data columns (total 12 columns):\n",
      " #   Column             Non-Null Count  Dtype  \n",
      "---  ------             --------------  -----  \n",
      " 0   Gender             614 non-null    object \n",
      " 1   Married            614 non-null    object \n",
      " 2   Dependents         614 non-null    object \n",
      " 3   Education          614 non-null    object \n",
      " 4   Self_Employed      614 non-null    object \n",
      " 5   ApplicantIncome    614 non-null    int64  \n",
      " 6   CoapplicantIncome  614 non-null    float64\n",
      " 7   LoanAmount         614 non-null    float64\n",
      " 8   Loan_Amount_Term   614 non-null    float64\n",
      " 9   Credit_History     614 non-null    float64\n",
      " 10  Property_Area      614 non-null    object \n",
      " 11  Loan_Status        614 non-null    object \n",
      "dtypes: float64(4), int64(1), object(7)\n",
      "memory usage: 57.7+ KB\n"
     ]
    }
   ],
   "source": [
    "Df.info()"
   ]
  },
  {
   "cell_type": "code",
   "execution_count": 26,
   "id": "e41f8b0a",
   "metadata": {},
   "outputs": [],
   "source": [
    "from sklearn.preprocessing import LabelEncoder\n"
   ]
  },
  {
   "cell_type": "code",
   "execution_count": 27,
   "id": "88a406bf",
   "metadata": {},
   "outputs": [],
   "source": [
    "Le = LabelEncoder()\n",
    "for column in Df.columns:\n",
    "    Df[column] = Le.fit_transform(Df[column])"
   ]
  },
  {
   "cell_type": "code",
   "execution_count": 28,
   "id": "4c0268f2",
   "metadata": {},
   "outputs": [
    {
     "name": "stdout",
     "output_type": "stream",
     "text": [
      "<class 'pandas.core.frame.DataFrame'>\n",
      "RangeIndex: 614 entries, 0 to 613\n",
      "Data columns (total 12 columns):\n",
      " #   Column             Non-Null Count  Dtype\n",
      "---  ------             --------------  -----\n",
      " 0   Gender             614 non-null    int32\n",
      " 1   Married            614 non-null    int32\n",
      " 2   Dependents         614 non-null    int32\n",
      " 3   Education          614 non-null    int32\n",
      " 4   Self_Employed      614 non-null    int32\n",
      " 5   ApplicantIncome    614 non-null    int64\n",
      " 6   CoapplicantIncome  614 non-null    int64\n",
      " 7   LoanAmount         614 non-null    int64\n",
      " 8   Loan_Amount_Term   614 non-null    int64\n",
      " 9   Credit_History     614 non-null    int64\n",
      " 10  Property_Area      614 non-null    int32\n",
      " 11  Loan_Status        614 non-null    int32\n",
      "dtypes: int32(7), int64(5)\n",
      "memory usage: 40.9 KB\n"
     ]
    }
   ],
   "source": [
    "Df.info()"
   ]
  },
  {
   "cell_type": "code",
   "execution_count": 29,
   "id": "8ee17185",
   "metadata": {},
   "outputs": [
    {
     "data": {
      "image/png": "[encoded data removed]",
      "text/plain": [
       "<Figure size 1440x2160 with 12 Axes>"
      ]
     },
     "metadata": {
      "needs_background": "light"
     },
     "output_type": "display_data"
    }
   ],
   "source": [
    "plt.subplots(figsize=(20, 30))\n",
    "for i in enumerate(Df.columns):\n",
    "    plt.subplot(9,3, i[0] + 1)\n",
    "    sns.distplot(Df[i[1]])\n",
    "plt.show()"
   ]
  },
  {
   "cell_type": "markdown",
   "id": "924a2d52",
   "metadata": {},
   "source": [
    "# Checking outliers present in the dataset"
   ]
  },
  {
   "cell_type": "code",
   "execution_count": 30,
   "id": "138df4f0",
   "metadata": {},
   "outputs": [
    {
     "data": {
      "image/png": "[encoded data removed]",
      "text/plain": [
       "<Figure size 576x360 with 1 Axes>"
      ]
     },
     "metadata": {
      "needs_background": "light"
     },
     "output_type": "display_data"
    },
    {
     "data": {
      "image/png": "[encoded data removed]",
      "text/plain": [
       "<Figure size 576x360 with 1 Axes>"
      ]
     },
     "metadata": {
      "needs_background": "light"
     },
     "output_type": "display_data"
    },
    {
     "data": {
      "image/png": "[encoded data removed]",
      "text/plain": [
       "<Figure size 576x360 with 1 Axes>"
      ]
     },
     "metadata": {
      "needs_background": "light"
     },
     "output_type": "display_data"
    },
    {
     "data": {
      "image/png": "[encoded data removed]",
      "text/plain": [
       "<Figure size 576x360 with 1 Axes>"
      ]
     },
     "metadata": {
      "needs_background": "light"
     },
     "output_type": "display_data"
    },
    {
     "data": {
      "image/png": "[encoded data removed]",
      "text/plain": [
       "<Figure size 576x360 with 1 Axes>"
      ]
     },
     "metadata": {
      "needs_background": "light"
     },
     "output_type": "display_data"
    },
    {
     "data": {
      "image/png": "[encoded data removed]",
      "text/plain": [
       "<Figure size 576x360 with 1 Axes>"
      ]
     },
     "metadata": {
      "needs_background": "light"
     },
     "output_type": "display_data"
    },
    {
     "data": {
      "image/png": "[encoded data removed]",
      "text/plain": [
       "<Figure size 576x360 with 1 Axes>"
      ]
     },
     "metadata": {
      "needs_background": "light"
     },
     "output_type": "display_data"
    },
    {
     "data": {
      "image/png": "[encoded data removed]",
      "text/plain": [
       "<Figure size 576x360 with 1 Axes>"
      ]
     },
     "metadata": {
      "needs_background": "light"
     },
     "output_type": "display_data"
    },
    {
     "data": {
      "image/png": "[encoded data removed]",
      "text/plain": [
       "<Figure size 576x360 with 1 Axes>"
      ]
     },
     "metadata": {
      "needs_background": "light"
     },
     "output_type": "display_data"
    },
    {
     "data": {
      "image/png": "[encoded data removed]",
      "text/plain": [
       "<Figure size 576x360 with 1 Axes>"
      ]
     },
     "metadata": {
      "needs_background": "light"
     },
     "output_type": "display_data"
    },
    {
     "data": {
      "image/png": "[encoded data removed]",
      "text/plain": [
       "<Figure size 576x360 with 1 Axes>"
      ]
     },
     "metadata": {
      "needs_background": "light"
     },
     "output_type": "display_data"
    },
    {
     "data": {
      "image/png": "[encoded data removed]",
      "text/plain": [
       "<Figure size 576x360 with 1 Axes>"
      ]
     },
     "metadata": {
      "needs_background": "light"
     },
     "output_type": "display_data"
    }
   ],
   "source": [
    "for j in Df.columns:\n",
    "    plt.figure(figsize=(8, 5))\n",
    "    plt.boxplot(Df[j], vert=True)\n",
    "    plt.title(j)\n",
    "    plt.xlabel(j)\n",
    "    plt.show()"
   ]
  },
  {
   "cell_type": "code",
   "execution_count": 31,
   "id": "7822552b",
   "metadata": {},
   "outputs": [
    {
     "data": {
      "text/plain": [
       "(array([ 14,  68,  94, 133, 242, 262, 313, 495, 497, 546, 575, 585],\n",
       "       dtype=int64),\n",
       " array([8, 8, 8, 8, 8, 8, 8, 8, 8, 8, 8, 8], dtype=int64))"
      ]
     },
     "execution_count": 31,
     "metadata": {},
     "output_type": "execute_result"
    }
   ],
   "source": [
    "import numpy as np\n",
    "from scipy.stats import zscore\n",
    "z=np.abs(zscore(Df))\n",
    "threshold=3\n",
    "np.where(z>3)"
   ]
  },
  {
   "cell_type": "code",
   "execution_count": 32,
   "id": "f0195f26",
   "metadata": {},
   "outputs": [
    {
     "data": {
      "text/html": [
       "<div>\n",
       "<style scoped>\n",
       "    .dataframe tbody tr th:only-of-type {\n",
       "        vertical-align: middle;\n",
       "    }\n",
       "\n",
       "    .dataframe tbody tr th {\n",
       "        vertical-align: top;\n",
       "    }\n",
       "\n",
       "    .dataframe thead th {\n",
       "        text-align: right;\n",
       "    }\n",
       "</style>\n",
       "<table border=\"1\" class=\"dataframe\">\n",
       "  <thead>\n",
       "    <tr style=\"text-align: right;\">\n",
       "      <th></th>\n",
       "      <th>Gender</th>\n",
       "      <th>Married</th>\n",
       "      <th>Dependents</th>\n",
       "      <th>Education</th>\n",
       "      <th>Self_Employed</th>\n",
       "      <th>ApplicantIncome</th>\n",
       "      <th>CoapplicantIncome</th>\n",
       "      <th>LoanAmount</th>\n",
       "      <th>Loan_Amount_Term</th>\n",
       "      <th>Credit_History</th>\n",
       "      <th>Property_Area</th>\n",
       "      <th>Loan_Status</th>\n",
       "    </tr>\n",
       "  </thead>\n",
       "  <tbody>\n",
       "    <tr>\n",
       "      <th>0</th>\n",
       "      <td>1</td>\n",
       "      <td>0</td>\n",
       "      <td>0</td>\n",
       "      <td>0</td>\n",
       "      <td>0</td>\n",
       "      <td>376</td>\n",
       "      <td>0</td>\n",
       "      <td>100</td>\n",
       "      <td>8</td>\n",
       "      <td>1</td>\n",
       "      <td>2</td>\n",
       "      <td>1</td>\n",
       "    </tr>\n",
       "    <tr>\n",
       "      <th>1</th>\n",
       "      <td>1</td>\n",
       "      <td>1</td>\n",
       "      <td>1</td>\n",
       "      <td>0</td>\n",
       "      <td>0</td>\n",
       "      <td>306</td>\n",
       "      <td>60</td>\n",
       "      <td>81</td>\n",
       "      <td>8</td>\n",
       "      <td>1</td>\n",
       "      <td>0</td>\n",
       "      <td>0</td>\n",
       "    </tr>\n",
       "    <tr>\n",
       "      <th>2</th>\n",
       "      <td>1</td>\n",
       "      <td>1</td>\n",
       "      <td>0</td>\n",
       "      <td>0</td>\n",
       "      <td>1</td>\n",
       "      <td>139</td>\n",
       "      <td>0</td>\n",
       "      <td>26</td>\n",
       "      <td>8</td>\n",
       "      <td>1</td>\n",
       "      <td>2</td>\n",
       "      <td>1</td>\n",
       "    </tr>\n",
       "    <tr>\n",
       "      <th>3</th>\n",
       "      <td>1</td>\n",
       "      <td>1</td>\n",
       "      <td>0</td>\n",
       "      <td>1</td>\n",
       "      <td>0</td>\n",
       "      <td>90</td>\n",
       "      <td>160</td>\n",
       "      <td>73</td>\n",
       "      <td>8</td>\n",
       "      <td>1</td>\n",
       "      <td>2</td>\n",
       "      <td>1</td>\n",
       "    </tr>\n",
       "    <tr>\n",
       "      <th>4</th>\n",
       "      <td>1</td>\n",
       "      <td>0</td>\n",
       "      <td>0</td>\n",
       "      <td>0</td>\n",
       "      <td>0</td>\n",
       "      <td>381</td>\n",
       "      <td>0</td>\n",
       "      <td>94</td>\n",
       "      <td>8</td>\n",
       "      <td>1</td>\n",
       "      <td>2</td>\n",
       "      <td>1</td>\n",
       "    </tr>\n",
       "    <tr>\n",
       "      <th>...</th>\n",
       "      <td>...</td>\n",
       "      <td>...</td>\n",
       "      <td>...</td>\n",
       "      <td>...</td>\n",
       "      <td>...</td>\n",
       "      <td>...</td>\n",
       "      <td>...</td>\n",
       "      <td>...</td>\n",
       "      <td>...</td>\n",
       "      <td>...</td>\n",
       "      <td>...</td>\n",
       "      <td>...</td>\n",
       "    </tr>\n",
       "    <tr>\n",
       "      <th>609</th>\n",
       "      <td>0</td>\n",
       "      <td>0</td>\n",
       "      <td>0</td>\n",
       "      <td>0</td>\n",
       "      <td>0</td>\n",
       "      <td>125</td>\n",
       "      <td>0</td>\n",
       "      <td>29</td>\n",
       "      <td>8</td>\n",
       "      <td>1</td>\n",
       "      <td>0</td>\n",
       "      <td>1</td>\n",
       "    </tr>\n",
       "    <tr>\n",
       "      <th>610</th>\n",
       "      <td>1</td>\n",
       "      <td>1</td>\n",
       "      <td>3</td>\n",
       "      <td>0</td>\n",
       "      <td>0</td>\n",
       "      <td>275</td>\n",
       "      <td>0</td>\n",
       "      <td>7</td>\n",
       "      <td>5</td>\n",
       "      <td>1</td>\n",
       "      <td>0</td>\n",
       "      <td>1</td>\n",
       "    </tr>\n",
       "    <tr>\n",
       "      <th>611</th>\n",
       "      <td>1</td>\n",
       "      <td>1</td>\n",
       "      <td>1</td>\n",
       "      <td>0</td>\n",
       "      <td>0</td>\n",
       "      <td>431</td>\n",
       "      <td>3</td>\n",
       "      <td>163</td>\n",
       "      <td>8</td>\n",
       "      <td>1</td>\n",
       "      <td>2</td>\n",
       "      <td>1</td>\n",
       "    </tr>\n",
       "    <tr>\n",
       "      <th>612</th>\n",
       "      <td>1</td>\n",
       "      <td>1</td>\n",
       "      <td>2</td>\n",
       "      <td>0</td>\n",
       "      <td>0</td>\n",
       "      <td>422</td>\n",
       "      <td>0</td>\n",
       "      <td>133</td>\n",
       "      <td>8</td>\n",
       "      <td>1</td>\n",
       "      <td>2</td>\n",
       "      <td>1</td>\n",
       "    </tr>\n",
       "    <tr>\n",
       "      <th>613</th>\n",
       "      <td>0</td>\n",
       "      <td>0</td>\n",
       "      <td>0</td>\n",
       "      <td>0</td>\n",
       "      <td>1</td>\n",
       "      <td>306</td>\n",
       "      <td>0</td>\n",
       "      <td>86</td>\n",
       "      <td>8</td>\n",
       "      <td>0</td>\n",
       "      <td>1</td>\n",
       "      <td>0</td>\n",
       "    </tr>\n",
       "  </tbody>\n",
       "</table>\n",
       "<p>602 rows × 12 columns</p>\n",
       "</div>"
      ],
      "text/plain": [
       "     Gender  Married  Dependents  Education  Self_Employed  ApplicantIncome  \\\n",
       "0         1        0           0          0              0              376   \n",
       "1         1        1           1          0              0              306   \n",
       "2         1        1           0          0              1              139   \n",
       "3         1        1           0          1              0               90   \n",
       "4         1        0           0          0              0              381   \n",
       "..      ...      ...         ...        ...            ...              ...   \n",
       "609       0        0           0          0              0              125   \n",
       "610       1        1           3          0              0              275   \n",
       "611       1        1           1          0              0              431   \n",
       "612       1        1           2          0              0              422   \n",
       "613       0        0           0          0              1              306   \n",
       "\n",
       "     CoapplicantIncome  LoanAmount  Loan_Amount_Term  Credit_History  \\\n",
       "0                    0         100                 8               1   \n",
       "1                   60          81                 8               1   \n",
       "2                    0          26                 8               1   \n",
       "3                  160          73                 8               1   \n",
       "4                    0          94                 8               1   \n",
       "..                 ...         ...               ...             ...   \n",
       "609                  0          29                 8               1   \n",
       "610                  0           7                 5               1   \n",
       "611                  3         163                 8               1   \n",
       "612                  0         133                 8               1   \n",
       "613                  0          86                 8               0   \n",
       "\n",
       "     Property_Area  Loan_Status  \n",
       "0                2            1  \n",
       "1                0            0  \n",
       "2                2            1  \n",
       "3                2            1  \n",
       "4                2            1  \n",
       "..             ...          ...  \n",
       "609              0            1  \n",
       "610              0            1  \n",
       "611              2            1  \n",
       "612              2            1  \n",
       "613              1            0  \n",
       "\n",
       "[602 rows x 12 columns]"
      ]
     },
     "execution_count": 32,
     "metadata": {},
     "output_type": "execute_result"
    }
   ],
   "source": [
    "new_data =Df[(z<3).all(axis=1)]\n",
    "new_data"
   ]
  },
  {
   "cell_type": "code",
   "execution_count": 33,
   "id": "d07e2c8b",
   "metadata": {},
   "outputs": [
    {
     "data": {
      "text/plain": [
       "(614, 12)"
      ]
     },
     "execution_count": 33,
     "metadata": {},
     "output_type": "execute_result"
    }
   ],
   "source": [
    "Df.shape"
   ]
  },
  {
   "cell_type": "code",
   "execution_count": 34,
   "id": "e147515b",
   "metadata": {},
   "outputs": [
    {
     "data": {
      "text/plain": [
       "(602, 12)"
      ]
     },
     "execution_count": 34,
     "metadata": {},
     "output_type": "execute_result"
    }
   ],
   "source": [
    "new_data.shape"
   ]
  },
  {
   "cell_type": "code",
   "execution_count": 35,
   "id": "7833e4ec",
   "metadata": {},
   "outputs": [
    {
     "data": {
      "text/plain": [
       "1.6286644951140066"
      ]
     },
     "execution_count": 35,
     "metadata": {},
     "output_type": "execute_result"
    }
   ],
   "source": [
    "dataloss=((614-604)/614*100)                       # Check data loss in dataset after removal of outliers\n",
    "dataloss"
   ]
  },
  {
   "cell_type": "code",
   "execution_count": 36,
   "id": "80578703",
   "metadata": {
    "scrolled": true
   },
   "outputs": [
    {
     "data": {
      "text/plain": [
       "Gender              -1.646147\n",
       "Married             -0.643625\n",
       "Dependents           1.027516\n",
       "Education            1.372199\n",
       "Self_Employed        2.189792\n",
       "ApplicantIncome      0.037182\n",
       "CoapplicantIncome    0.772613\n",
       "LoanAmount           0.471894\n",
       "Loan_Amount_Term    -2.771730\n",
       "Credit_History      -1.989282\n",
       "Property_Area       -0.058757\n",
       "Loan_Status         -0.803760\n",
       "dtype: float64"
      ]
     },
     "execution_count": 36,
     "metadata": {},
     "output_type": "execute_result"
    }
   ],
   "source": [
    "#checking of skewness\n",
    "new_data.skew()"
   ]
  },
  {
   "cell_type": "markdown",
   "id": "41bff379",
   "metadata": {},
   "source": [
    "Here, we can see that many columns skewness present and it need to be treated"
   ]
  },
  {
   "cell_type": "code",
   "execution_count": 38,
   "id": "460b9349",
   "metadata": {},
   "outputs": [],
   "source": [
    "from sklearn.preprocessing import power_transform\n",
    "\n",
    "new_data[['CoapplicantIncome','Credit_History','Loan_Amount_Term']]=power_transform(new_data[['CoapplicantIncome','Credit_History','Loan_Amount_Term']],method='yeo-johnson')"
   ]
  },
  {
   "cell_type": "code",
   "execution_count": 39,
   "id": "6eac6058",
   "metadata": {},
   "outputs": [
    {
     "data": {
      "text/plain": [
       "Gender              -1.646147\n",
       "Married             -0.643625\n",
       "Dependents           1.027516\n",
       "Education            1.372199\n",
       "Self_Employed        2.189792\n",
       "ApplicantIncome      0.037182\n",
       "CoapplicantIncome   -0.047448\n",
       "LoanAmount           0.471894\n",
       "Loan_Amount_Term     0.488385\n",
       "Credit_History      -1.989282\n",
       "Property_Area       -0.058757\n",
       "Loan_Status         -0.803760\n",
       "dtype: float64"
      ]
     },
     "execution_count": 39,
     "metadata": {},
     "output_type": "execute_result"
    }
   ],
   "source": [
    "new_data.skew()"
   ]
  },
  {
   "cell_type": "markdown",
   "id": "58d62704",
   "metadata": {},
   "source": [
    "#Now split the data into x and y"
   ]
  },
  {
   "cell_type": "code",
   "execution_count": 42,
   "id": "6141a24c",
   "metadata": {},
   "outputs": [],
   "source": [
    "X = new_data.drop([\"Loan_Status\"], axis = 1)\n",
    "Y = new_data[\"Loan_Status\"]"
   ]
  },
  {
   "cell_type": "code",
   "execution_count": 43,
   "id": "ca62dd56",
   "metadata": {},
   "outputs": [
    {
     "data": {
      "text/plain": [
       "(602, 11)"
      ]
     },
     "execution_count": 43,
     "metadata": {},
     "output_type": "execute_result"
    }
   ],
   "source": [
    "X.shape"
   ]
  },
  {
   "cell_type": "code",
   "execution_count": 44,
   "id": "32c4f241",
   "metadata": {},
   "outputs": [
    {
     "data": {
      "text/plain": [
       "1    413\n",
       "0    189\n",
       "Name: Loan_Status, dtype: int64"
      ]
     },
     "execution_count": 44,
     "metadata": {},
     "output_type": "execute_result"
    }
   ],
   "source": [
    "Y.value_counts()"
   ]
  },
  {
   "cell_type": "code",
   "execution_count": 45,
   "id": "695647ad",
   "metadata": {},
   "outputs": [],
   "source": [
    "from sklearn.preprocessing import StandardScaler\n",
    "\n",
    "sc = StandardScaler()\n",
    "X = sc.fit_transform(X)"
   ]
  },
  {
   "cell_type": "code",
   "execution_count": 46,
   "id": "33b3695f",
   "metadata": {},
   "outputs": [
    {
     "data": {
      "text/plain": [
       "0     0\n",
       "1     0\n",
       "2     0\n",
       "3     0\n",
       "4     0\n",
       "5     0\n",
       "6     0\n",
       "7     0\n",
       "8     0\n",
       "9     0\n",
       "10    0\n",
       "dtype: int64"
      ]
     },
     "execution_count": 46,
     "metadata": {},
     "output_type": "execute_result"
    }
   ],
   "source": [
    "pd.DataFrame(X).isnull().sum()"
   ]
  },
  {
   "cell_type": "code",
   "execution_count": 49,
   "id": "670533b1",
   "metadata": {},
   "outputs": [
    {
     "data": {
      "text/html": [
       "<div>\n",
       "<style scoped>\n",
       "    .dataframe tbody tr th:only-of-type {\n",
       "        vertical-align: middle;\n",
       "    }\n",
       "\n",
       "    .dataframe tbody tr th {\n",
       "        vertical-align: top;\n",
       "    }\n",
       "\n",
       "    .dataframe thead th {\n",
       "        text-align: right;\n",
       "    }\n",
       "</style>\n",
       "<table border=\"1\" class=\"dataframe\">\n",
       "  <thead>\n",
       "    <tr style=\"text-align: right;\">\n",
       "      <th></th>\n",
       "      <th>Gender</th>\n",
       "      <th>Married</th>\n",
       "      <th>Dependents</th>\n",
       "      <th>Education</th>\n",
       "      <th>Self_Employed</th>\n",
       "      <th>ApplicantIncome</th>\n",
       "      <th>CoapplicantIncome</th>\n",
       "      <th>LoanAmount</th>\n",
       "      <th>Loan_Amount_Term</th>\n",
       "      <th>Credit_History</th>\n",
       "      <th>Property_Area</th>\n",
       "      <th>Loan_Status</th>\n",
       "    </tr>\n",
       "  </thead>\n",
       "  <tbody>\n",
       "    <tr>\n",
       "      <th>count</th>\n",
       "      <td>602.000000</td>\n",
       "      <td>602.000000</td>\n",
       "      <td>602.000000</td>\n",
       "      <td>602.000000</td>\n",
       "      <td>602.000000</td>\n",
       "      <td>602.000000</td>\n",
       "      <td>6.020000e+02</td>\n",
       "      <td>602.000000</td>\n",
       "      <td>6.020000e+02</td>\n",
       "      <td>6.020000e+02</td>\n",
       "      <td>602.000000</td>\n",
       "      <td>602.000000</td>\n",
       "    </tr>\n",
       "    <tr>\n",
       "      <th>mean</th>\n",
       "      <td>0.817276</td>\n",
       "      <td>0.652824</td>\n",
       "      <td>0.739203</td>\n",
       "      <td>0.217608</td>\n",
       "      <td>0.131229</td>\n",
       "      <td>247.574751</td>\n",
       "      <td>2.146677e-16</td>\n",
       "      <td>88.244186</td>\n",
       "      <td>-3.160078e-16</td>\n",
       "      <td>-8.026064e-16</td>\n",
       "      <td>1.033223</td>\n",
       "      <td>0.686047</td>\n",
       "    </tr>\n",
       "    <tr>\n",
       "      <th>std</th>\n",
       "      <td>0.386762</td>\n",
       "      <td>0.476468</td>\n",
       "      <td>1.009155</td>\n",
       "      <td>0.412963</td>\n",
       "      <td>0.337932</td>\n",
       "      <td>144.175671</td>\n",
       "      <td>1.000832e+00</td>\n",
       "      <td>45.590580</td>\n",
       "      <td>1.000832e+00</td>\n",
       "      <td>1.000832e+00</td>\n",
       "      <td>0.788156</td>\n",
       "      <td>0.464484</td>\n",
       "    </tr>\n",
       "    <tr>\n",
       "      <th>min</th>\n",
       "      <td>0.000000</td>\n",
       "      <td>0.000000</td>\n",
       "      <td>0.000000</td>\n",
       "      <td>0.000000</td>\n",
       "      <td>0.000000</td>\n",
       "      <td>0.000000</td>\n",
       "      <td>-1.076391e+00</td>\n",
       "      <td>0.000000</td>\n",
       "      <td>-2.506954e+00</td>\n",
       "      <td>-2.400843e+00</td>\n",
       "      <td>0.000000</td>\n",
       "      <td>0.000000</td>\n",
       "    </tr>\n",
       "    <tr>\n",
       "      <th>25%</th>\n",
       "      <td>1.000000</td>\n",
       "      <td>0.000000</td>\n",
       "      <td>0.000000</td>\n",
       "      <td>0.000000</td>\n",
       "      <td>0.000000</td>\n",
       "      <td>118.250000</td>\n",
       "      <td>-1.076391e+00</td>\n",
       "      <td>54.250000</td>\n",
       "      <td>1.475823e-01</td>\n",
       "      <td>4.165204e-01</td>\n",
       "      <td>0.000000</td>\n",
       "      <td>0.000000</td>\n",
       "    </tr>\n",
       "    <tr>\n",
       "      <th>50%</th>\n",
       "      <td>1.000000</td>\n",
       "      <td>1.000000</td>\n",
       "      <td>0.000000</td>\n",
       "      <td>0.000000</td>\n",
       "      <td>0.000000</td>\n",
       "      <td>246.500000</td>\n",
       "      <td>3.814135e-01</td>\n",
       "      <td>83.000000</td>\n",
       "      <td>1.475823e-01</td>\n",
       "      <td>4.165204e-01</td>\n",
       "      <td>1.000000</td>\n",
       "      <td>1.000000</td>\n",
       "    </tr>\n",
       "    <tr>\n",
       "      <th>75%</th>\n",
       "      <td>1.000000</td>\n",
       "      <td>1.000000</td>\n",
       "      <td>1.000000</td>\n",
       "      <td>0.000000</td>\n",
       "      <td>0.000000</td>\n",
       "      <td>371.750000</td>\n",
       "      <td>9.984090e-01</td>\n",
       "      <td>117.000000</td>\n",
       "      <td>1.475823e-01</td>\n",
       "      <td>4.165204e-01</td>\n",
       "      <td>2.000000</td>\n",
       "      <td>1.000000</td>\n",
       "    </tr>\n",
       "    <tr>\n",
       "      <th>max</th>\n",
       "      <td>1.000000</td>\n",
       "      <td>1.000000</td>\n",
       "      <td>3.000000</td>\n",
       "      <td>1.000000</td>\n",
       "      <td>1.000000</td>\n",
       "      <td>504.000000</td>\n",
       "      <td>1.275987e+00</td>\n",
       "      <td>203.000000</td>\n",
       "      <td>4.165894e+00</td>\n",
       "      <td>4.165204e-01</td>\n",
       "      <td>2.000000</td>\n",
       "      <td>1.000000</td>\n",
       "    </tr>\n",
       "  </tbody>\n",
       "</table>\n",
       "</div>"
      ],
      "text/plain": [
       "           Gender     Married  Dependents   Education  Self_Employed  \\\n",
       "count  602.000000  602.000000  602.000000  602.000000     602.000000   \n",
       "mean     0.817276    0.652824    0.739203    0.217608       0.131229   \n",
       "std      0.386762    0.476468    1.009155    0.412963       0.337932   \n",
       "min      0.000000    0.000000    0.000000    0.000000       0.000000   \n",
       "25%      1.000000    0.000000    0.000000    0.000000       0.000000   \n",
       "50%      1.000000    1.000000    0.000000    0.000000       0.000000   \n",
       "75%      1.000000    1.000000    1.000000    0.000000       0.000000   \n",
       "max      1.000000    1.000000    3.000000    1.000000       1.000000   \n",
       "\n",
       "       ApplicantIncome  CoapplicantIncome  LoanAmount  Loan_Amount_Term  \\\n",
       "count       602.000000       6.020000e+02  602.000000      6.020000e+02   \n",
       "mean        247.574751       2.146677e-16   88.244186     -3.160078e-16   \n",
       "std         144.175671       1.000832e+00   45.590580      1.000832e+00   \n",
       "min           0.000000      -1.076391e+00    0.000000     -2.506954e+00   \n",
       "25%         118.250000      -1.076391e+00   54.250000      1.475823e-01   \n",
       "50%         246.500000       3.814135e-01   83.000000      1.475823e-01   \n",
       "75%         371.750000       9.984090e-01  117.000000      1.475823e-01   \n",
       "max         504.000000       1.275987e+00  203.000000      4.165894e+00   \n",
       "\n",
       "       Credit_History  Property_Area  Loan_Status  \n",
       "count    6.020000e+02     602.000000   602.000000  \n",
       "mean    -8.026064e-16       1.033223     0.686047  \n",
       "std      1.000832e+00       0.788156     0.464484  \n",
       "min     -2.400843e+00       0.000000     0.000000  \n",
       "25%      4.165204e-01       0.000000     0.000000  \n",
       "50%      4.165204e-01       1.000000     1.000000  \n",
       "75%      4.165204e-01       2.000000     1.000000  \n",
       "max      4.165204e-01       2.000000     1.000000  "
      ]
     },
     "execution_count": 49,
     "metadata": {},
     "output_type": "execute_result"
    }
   ],
   "source": [
    "new_data.describe()"
   ]
  },
  {
   "cell_type": "code",
   "execution_count": 50,
   "id": "d84dd3ec",
   "metadata": {},
   "outputs": [],
   "source": [
    "from imblearn.over_sampling import SMOTE\n",
    "\n",
    "over_sample = SMOTE()\n",
    "X, Y = over_sample.fit_resample(X, Y)"
   ]
  },
  {
   "cell_type": "code",
   "execution_count": 52,
   "id": "c8e91124",
   "metadata": {},
   "outputs": [
    {
     "data": {
      "text/plain": [
       "1    413\n",
       "0    413\n",
       "Name: Loan_Status, dtype: int64"
      ]
     },
     "execution_count": 52,
     "metadata": {},
     "output_type": "execute_result"
    },
    {
     "data": {
      "image/png": "[encoded data removed]",
      "text/plain": [
       "<Figure size 432x288 with 1 Axes>"
      ]
     },
     "metadata": {
      "needs_background": "light"
     },
     "output_type": "display_data"
    }
   ],
   "source": [
    "sns.countplot(Y)\n",
    "Y.value_counts()"
   ]
  },
  {
   "cell_type": "markdown",
   "id": "1ad4eabc",
   "metadata": {},
   "source": [
    "Now, we start building a model"
   ]
  },
  {
   "cell_type": "code",
   "execution_count": 61,
   "id": "f8bf1301",
   "metadata": {},
   "outputs": [],
   "source": [
    "from sklearn.linear_model import LogisticRegression\n",
    "from sklearn.metrics import accuracy_score\n",
    "Lr=LogisticRegression()"
   ]
  },
  {
   "cell_type": "code",
   "execution_count": 62,
   "id": "20c1b7c4",
   "metadata": {},
   "outputs": [
    {
     "name": "stdout",
     "output_type": "stream",
     "text": [
      "The best test acuuracy is -  0.8072289156626506 at the random state 89\n"
     ]
    }
   ],
   "source": [
    "max_accuracy = 0\n",
    "max_random = 0\n",
    "\n",
    "for i in range(0,500):\n",
    "    X_train,X_test,Y_train,Y_test=train_test_split(X,Y,test_size=0.2,random_state=i)\n",
    "    Lr.fit(X_train,Y_train)\n",
    "    \n",
    "    predict_test=Lr.predict(X_test)\n",
    "    accuracy = accuracy_score(Y_test,predict_test)\n",
    "    if accuracy>max_accuracy:\n",
    "        max_accuracy=accuracy\n",
    "        max_random = i\n",
    "print(\"The best test acuuracy is - \", max_accuracy, \"at the random state\", max_random )"
   ]
  },
  {
   "cell_type": "code",
   "execution_count": 63,
   "id": "b56365f4",
   "metadata": {},
   "outputs": [
    {
     "data": {
      "text/plain": [
       "LogisticRegression()"
      ]
     },
     "execution_count": 63,
     "metadata": {},
     "output_type": "execute_result"
    }
   ],
   "source": [
    "X_train,X_test,Y_train,Y_test=train_test_split(X,Y,test_size=0.2,random_state=89)\n",
    "Lr.fit(X_train,Y_train)"
   ]
  },
  {
   "cell_type": "code",
   "execution_count": 64,
   "id": "eb9f713f",
   "metadata": {},
   "outputs": [
    {
     "name": "stdout",
     "output_type": "stream",
     "text": [
      "0.7090909090909091\n"
     ]
    }
   ],
   "source": [
    "print(Lr.score(X_train,Y_train))\n",
    "predict_test=Lr.predict(X_test)\n",
    "predict_train=Lr.predict(X_train)"
   ]
  },
  {
   "cell_type": "code",
   "execution_count": 66,
   "id": "858a2219",
   "metadata": {},
   "outputs": [
    {
     "name": "stdout",
     "output_type": "stream",
     "text": [
      "0.22339181286549714\n"
     ]
    }
   ],
   "source": [
    "print(r2_score(Y_test,predict_test))"
   ]
  },
  {
   "cell_type": "code",
   "execution_count": 69,
   "id": "e342824c",
   "metadata": {},
   "outputs": [],
   "source": [
    "from sklearn.model_selection import cross_val_score"
   ]
  },
  {
   "cell_type": "code",
   "execution_count": 71,
   "id": "60beb9ae",
   "metadata": {},
   "outputs": [
    {
     "name": "stdout",
     "output_type": "stream",
     "text": [
      "At cross fold 2 the cv score is 0.7021791767554479\n",
      "\n",
      "\n",
      "At cross fold 3 the cv score is 0.6949055775142732\n",
      "\n",
      "\n",
      "At cross fold 4 the cv score is 0.7130704469771587\n",
      "\n",
      "\n",
      "At cross fold 5 the cv score is 0.7167287331142753\n",
      "\n",
      "\n",
      "At cross fold 6 the cv score is 0.7178937903311118\n",
      "\n",
      "\n",
      "At cross fold 7 the cv score is 0.7167070217917676\n",
      "\n",
      "\n",
      "At cross fold 8 the cv score is 0.7191817587752054\n",
      "\n",
      "\n",
      "At cross fold 9 the cv score is 0.7069729787121092\n",
      "\n",
      "\n"
     ]
    }
   ],
   "source": [
    "for a in range(2,10):\n",
    "    cross_v_score=cross_val_score(Lr,X,Y,cv=a)\n",
    "    cv_mean=cross_v_score.mean()\n",
    "    print(f'At cross fold {a} the cv score is {cv_mean}')\n",
    "    print('\\n')"
   ]
  },
  {
   "cell_type": "code",
   "execution_count": 72,
   "id": "4360e14a",
   "metadata": {},
   "outputs": [],
   "source": [
    "from sklearn.metrics import confusion_matrix,classification_report\n",
    "from sklearn.tree import DecisionTreeClassifier"
   ]
  },
  {
   "cell_type": "code",
   "execution_count": 73,
   "id": "54506920",
   "metadata": {},
   "outputs": [],
   "source": [
    "from sklearn.ensemble import RandomForestRegressor\n",
    "from sklearn.neighbors import KNeighborsClassifier\n",
    "from sklearn.svm import SVC"
   ]
  },
  {
   "cell_type": "code",
   "execution_count": 74,
   "id": "f9a6fa1b",
   "metadata": {},
   "outputs": [
    {
     "name": "stdout",
     "output_type": "stream",
     "text": [
      "Cross validation - score: 0.7482365826944141\n"
     ]
    }
   ],
   "source": [
    "Dt=DecisionTreeClassifier()\n",
    "Dt_score=cross_val_score(Dt,X,Y,cv=5,scoring=\"accuracy\")\n",
    "print(\"Cross validation - score:\", np.mean(Dt_score))"
   ]
  },
  {
   "cell_type": "code",
   "execution_count": 76,
   "id": "1790464f",
   "metadata": {},
   "outputs": [
    {
     "name": "stdout",
     "output_type": "stream",
     "text": [
      "0.7349397590361446\n",
      "[[61 15]\n",
      " [29 61]]\n",
      "              precision    recall  f1-score   support\n",
      "\n",
      "           0       0.68      0.80      0.73        76\n",
      "           1       0.80      0.68      0.73        90\n",
      "\n",
      "    accuracy                           0.73       166\n",
      "   macro avg       0.74      0.74      0.73       166\n",
      "weighted avg       0.75      0.73      0.73       166\n",
      "\n",
      "\n",
      "\n"
     ]
    }
   ],
   "source": [
    "Dt.fit(X_train,Y_train)\n",
    "predicted_Dt=Dt.predict(X_test)\n",
    "print(accuracy_score(Y_test,predicted_Dt))\n",
    "print(confusion_matrix(Y_test,predicted_Dt))\n",
    "print(classification_report(Y_test,predicted_Dt))\n",
    "print('\\n')"
   ]
  },
  {
   "cell_type": "code",
   "execution_count": 77,
   "id": "55eb8a1b",
   "metadata": {},
   "outputs": [
    {
     "name": "stdout",
     "output_type": "stream",
     "text": [
      "Training accuracy is - 1.0\n",
      "Testing accuracy is - 0.7349397590361446\n"
     ]
    }
   ],
   "source": [
    "print(\"Training accuracy is -\",Dt.score(X_train,Y_train))\n",
    "print(\"Testing accuracy is -\",Dt.score(X_test,Y_test))"
   ]
  },
  {
   "cell_type": "code",
   "execution_count": 78,
   "id": "6ee8e3ff",
   "metadata": {},
   "outputs": [],
   "source": [
    "Model = [KNeighborsClassifier(), SVC(), RandomForestRegressor()]"
   ]
  },
  {
   "cell_type": "code",
   "execution_count": 82,
   "id": "3580c574",
   "metadata": {},
   "outputs": [
    {
     "name": "stdout",
     "output_type": "stream",
     "text": [
      "Accuracy of a Model   : KNeighborsClassifier()\n",
      "Accuracy score     : 0.8072289156626506\n",
      "Confusion matrix   : [[46 30]\n",
      " [ 2 88]]\n",
      "Classification report    :               precision    recall  f1-score   support\n",
      "\n",
      "           0       0.96      0.61      0.74        76\n",
      "           1       0.75      0.98      0.85        90\n",
      "\n",
      "    accuracy                           0.81       166\n",
      "   macro avg       0.85      0.79      0.79       166\n",
      "weighted avg       0.84      0.81      0.80       166\n",
      "\n",
      "Training accuracy is - 0.8378787878787879\n",
      "Testing accuracy is - 0.7530120481927711\n",
      "[0.76506024 0.68484848 0.73939394 0.73939394 0.72727273]\n",
      "Cross Validation Score   : 0.7311938663745892\n",
      "-----------------------------------------------------------------------------\n",
      "Accuracy of a Model   : SVC()\n",
      "Accuracy score     : 0.8072289156626506\n",
      "Confusion matrix   : [[46 30]\n",
      " [ 2 88]]\n",
      "Classification report    :               precision    recall  f1-score   support\n",
      "\n",
      "           0       0.96      0.61      0.74        76\n",
      "           1       0.75      0.98      0.85        90\n",
      "\n",
      "    accuracy                           0.81       166\n",
      "   macro avg       0.85      0.79      0.79       166\n",
      "weighted avg       0.84      0.81      0.80       166\n",
      "\n",
      "Training accuracy is - 0.796969696969697\n",
      "Testing accuracy is - 0.8373493975903614\n",
      "[0.72289157 0.73333333 0.77575758 0.74545455 0.72121212]\n",
      "Cross Validation Score   : 0.7397298284045272\n",
      "-----------------------------------------------------------------------------\n",
      "Accuracy of a Model   : RandomForestRegressor()\n",
      "Accuracy score     : 0.8072289156626506\n",
      "Confusion matrix   : [[46 30]\n",
      " [ 2 88]]\n",
      "Classification report    :               precision    recall  f1-score   support\n",
      "\n",
      "           0       0.96      0.61      0.74        76\n",
      "           1       0.75      0.98      0.85        90\n",
      "\n",
      "    accuracy                           0.81       166\n",
      "   macro avg       0.85      0.79      0.79       166\n",
      "weighted avg       0.84      0.81      0.80       166\n",
      "\n",
      "Training accuracy is - 0.9228295192510864\n",
      "Testing accuracy is - 0.5566562280701753\n",
      "[0.34741199 0.05063415 0.26945249 0.49954682 0.        ]\n",
      "Cross Validation Score   : 0.23340909063382648\n",
      "-----------------------------------------------------------------------------\n"
     ]
    }
   ],
   "source": [
    "for m in Model:\n",
    "    print(\"Accuracy of a Model   :\", m)\n",
    "    m.fit(X_train,Y_train)\n",
    "    predict = m.predict(X_test)\n",
    "    print(\"Accuracy score     :\", accuracy_score(Y_test,predict_test))\n",
    "    \n",
    "    print(\"Confusion matrix   :\", confusion_matrix(Y_test,predict_test))\n",
    "    \n",
    "    print(\"Classification report    :\", classification_report(Y_test,predict_test))\n",
    "    \n",
    "    print(\"Training accuracy is -\",m.score(X_train,Y_train))\n",
    "    print(\"Testing accuracy is -\",m.score(X_test,Y_test))\n",
    "    \n",
    "    m_score = cross_val_score(m,X,Y, cv=5)\n",
    "    print(m_score)\n",
    "    print(\"Cross Validation Score   :\", m_score.mean())\n",
    "    print(\"-----------------------------------------------------------------------------\")\n"
   ]
  },
  {
   "cell_type": "code",
   "execution_count": 96,
   "id": "82fb4cb4",
   "metadata": {},
   "outputs": [],
   "source": [
    "from sklearn.model_selection import GridSearchCV"
   ]
  },
  {
   "cell_type": "code",
   "execution_count": 98,
   "id": "31875574",
   "metadata": {},
   "outputs": [
    {
     "data": {
      "text/plain": [
       "{'criterion': 'entropy',\n",
       " 'max_depth': 15,\n",
       " 'min_samples_leaf': 1,\n",
       " 'min_samples_split': 10}"
      ]
     },
     "execution_count": 98,
     "metadata": {},
     "output_type": "execute_result"
    }
   ],
   "source": [
    "parameter_grid = {'criterion': ['gini', 'entropy', 'log_loss'], 'max_depth': [None, 5, 10, 15], 'min_samples_split': [2, 5, 10], 'min_samples_leaf': [1, 2, 4]}\n",
    "Dtc = DecisionTreeClassifier()\n",
    "\n",
    "GS_cv = GridSearchCV(Dtc, parameter_grid, cv=5, scoring='accuracy')\n",
    "GS_cv.fit(X_train,Y_train)\n",
    "GS_cv.best_params_  "
   ]
  },
  {
   "cell_type": "code",
   "execution_count": 99,
   "id": "472c6859",
   "metadata": {},
   "outputs": [
    {
     "name": "stdout",
     "output_type": "stream",
     "text": [
      "After hyper parameter tuning, Accuracy score is:   0.7409638554216867\n"
     ]
    }
   ],
   "source": [
    "Gcv_predict=GS_cv.best_estimator_.predict(X_test)\n",
    "print(\"After hyper parameter tuning, Accuracy score is:  \", accuracy_score(Y_test,Gcv_predict))"
   ]
  },
  {
   "cell_type": "code",
   "execution_count": 100,
   "id": "8496c459",
   "metadata": {},
   "outputs": [],
   "source": [
    "best_param={'criterion': ['entropy'], 'max_depth': [15], 'min_samples_leaf': [1], 'min_samples_split': [10]}"
   ]
  },
  {
   "cell_type": "code",
   "execution_count": 104,
   "id": "658efaaf",
   "metadata": {},
   "outputs": [],
   "source": [
    "best_param_grid=GridSearchCV(DecisionTreeClassifier(), best_param, cv=4, scoring='accuracy')"
   ]
  },
  {
   "cell_type": "code",
   "execution_count": 105,
   "id": "0823b453",
   "metadata": {},
   "outputs": [
    {
     "name": "stdout",
     "output_type": "stream",
     "text": [
      "After hyper parameter tuning, Accuracy score is:   0.7469879518072289\n"
     ]
    }
   ],
   "source": [
    "best_param_grid.fit(X_train,Y_train)\n",
    "best_Gcv_predict=best_param_grid.best_estimator_.predict(X_test)\n",
    "print(\"After hyper parameter tuning, Accuracy score is:  \", accuracy_score(Y_test,best_Gcv_predict))"
   ]
  },
  {
   "cell_type": "code",
   "execution_count": 106,
   "id": "251b39c0",
   "metadata": {},
   "outputs": [
    {
     "name": "stdout",
     "output_type": "stream",
     "text": [
      "74.69879518072288\n",
      "Classification report    :               precision    recall  f1-score   support\n",
      "\n",
      "           0       0.70      0.79      0.74        76\n",
      "           1       0.80      0.71      0.75        90\n",
      "\n",
      "    accuracy                           0.75       166\n",
      "   macro avg       0.75      0.75      0.75       166\n",
      "weighted avg       0.75      0.75      0.75       166\n",
      "\n"
     ]
    }
   ],
   "source": [
    "print(accuracy_score(Y_test,best_Gcv_predict)*100)\n",
    "print(\"Classification report    :\", classification_report(Y_test,best_Gcv_predict))"
   ]
  },
  {
   "cell_type": "code",
   "execution_count": 110,
   "id": "09224f5a",
   "metadata": {},
   "outputs": [],
   "source": [
    "from sklearn import metrics\n",
    "from sklearn.metrics import roc_auc_score"
   ]
  },
  {
   "cell_type": "code",
   "execution_count": 112,
   "id": "f8375b3f",
   "metadata": {},
   "outputs": [
    {
     "data": {
      "image/png": "[encoded data removed]",
      "text/plain": [
       "<Figure size 576x396 with 1 Axes>"
      ]
     },
     "metadata": {},
     "output_type": "display_data"
    }
   ],
   "source": [
    "plt.style.use('seaborn')\n",
    "ROC_AUC = metrics.plot_roc_curve(best_param_grid, X_test, Y_test)\n",
    "ROC_AUC.figure_.suptitle(\"ROC-AUC Curve\")\n",
    "plt.show()"
   ]
  },
  {
   "cell_type": "code",
   "execution_count": 113,
   "id": "50c15c3e",
   "metadata": {},
   "outputs": [
    {
     "data": {
      "text/plain": [
       "['Loan_Application_Status_Prediction.pkl']"
      ]
     },
     "execution_count": 113,
     "metadata": {},
     "output_type": "execute_result"
    }
   ],
   "source": [
    "import joblib\n",
    "joblib.dump(best_param_grid, \"Loan_Application_Status_Prediction.pkl\")"
   ]
  },
  {
   "cell_type": "code",
   "execution_count": 114,
   "id": "2324933a",
   "metadata": {},
   "outputs": [
    {
     "name": "stdout",
     "output_type": "stream",
     "text": [
      "74.69879518072288\n"
     ]
    }
   ],
   "source": [
    "new_predict = joblib.load(open('Loan_Application_Status_Prediction.pkl','rb'))\n",
    "result=new_predict.score(X_test,Y_test)\n",
    "print(result*100)"
   ]
  },
  {
   "cell_type": "code",
   "execution_count": 115,
   "id": "0c7a1a08",
   "metadata": {},
   "outputs": [
    {
     "data": {
      "text/html": [
       "<div>\n",
       "<style scoped>\n",
       "    .dataframe tbody tr th:only-of-type {\n",
       "        vertical-align: middle;\n",
       "    }\n",
       "\n",
       "    .dataframe tbody tr th {\n",
       "        vertical-align: top;\n",
       "    }\n",
       "\n",
       "    .dataframe thead th {\n",
       "        text-align: right;\n",
       "    }\n",
       "</style>\n",
       "<table border=\"1\" class=\"dataframe\">\n",
       "  <thead>\n",
       "    <tr style=\"text-align: right;\">\n",
       "      <th></th>\n",
       "      <th>0</th>\n",
       "      <th>1</th>\n",
       "      <th>2</th>\n",
       "      <th>3</th>\n",
       "      <th>4</th>\n",
       "      <th>5</th>\n",
       "      <th>6</th>\n",
       "      <th>7</th>\n",
       "      <th>8</th>\n",
       "      <th>9</th>\n",
       "      <th>...</th>\n",
       "      <th>156</th>\n",
       "      <th>157</th>\n",
       "      <th>158</th>\n",
       "      <th>159</th>\n",
       "      <th>160</th>\n",
       "      <th>161</th>\n",
       "      <th>162</th>\n",
       "      <th>163</th>\n",
       "      <th>164</th>\n",
       "      <th>165</th>\n",
       "    </tr>\n",
       "  </thead>\n",
       "  <tbody>\n",
       "    <tr>\n",
       "      <th>Predicted</th>\n",
       "      <td>1</td>\n",
       "      <td>0</td>\n",
       "      <td>1</td>\n",
       "      <td>0</td>\n",
       "      <td>0</td>\n",
       "      <td>0</td>\n",
       "      <td>0</td>\n",
       "      <td>0</td>\n",
       "      <td>0</td>\n",
       "      <td>0</td>\n",
       "      <td>...</td>\n",
       "      <td>0</td>\n",
       "      <td>1</td>\n",
       "      <td>1</td>\n",
       "      <td>0</td>\n",
       "      <td>1</td>\n",
       "      <td>1</td>\n",
       "      <td>1</td>\n",
       "      <td>1</td>\n",
       "      <td>0</td>\n",
       "      <td>1</td>\n",
       "    </tr>\n",
       "    <tr>\n",
       "      <th>Original</th>\n",
       "      <td>1</td>\n",
       "      <td>0</td>\n",
       "      <td>1</td>\n",
       "      <td>0</td>\n",
       "      <td>0</td>\n",
       "      <td>0</td>\n",
       "      <td>0</td>\n",
       "      <td>0</td>\n",
       "      <td>0</td>\n",
       "      <td>0</td>\n",
       "      <td>...</td>\n",
       "      <td>0</td>\n",
       "      <td>1</td>\n",
       "      <td>1</td>\n",
       "      <td>0</td>\n",
       "      <td>1</td>\n",
       "      <td>1</td>\n",
       "      <td>1</td>\n",
       "      <td>1</td>\n",
       "      <td>0</td>\n",
       "      <td>1</td>\n",
       "    </tr>\n",
       "  </tbody>\n",
       "</table>\n",
       "<p>2 rows × 166 columns</p>\n",
       "</div>"
      ],
      "text/plain": [
       "           0    1    2    3    4    5    6    7    8    9    ...  156  157  \\\n",
       "Predicted    1    0    1    0    0    0    0    0    0    0  ...    0    1   \n",
       "Original     1    0    1    0    0    0    0    0    0    0  ...    0    1   \n",
       "\n",
       "           158  159  160  161  162  163  164  165  \n",
       "Predicted    1    0    1    1    1    1    0    1  \n",
       "Original     1    0    1    1    1    1    0    1  \n",
       "\n",
       "[2 rows x 166 columns]"
      ]
     },
     "execution_count": 115,
     "metadata": {},
     "output_type": "execute_result"
    }
   ],
   "source": [
    "Prediction = pd.DataFrame([new_predict.predict(X_test)[:],best_Gcv_predict[:]],index=['Predicted','Original'])\n",
    "Prediction"
   ]
  },
  {
   "cell_type": "code",
   "execution_count": null,
   "id": "66916861",
   "metadata": {},
   "outputs": [],
   "source": []
  }
 ],
 "metadata": {
  "kernelspec": {
   "display_name": "Python 3 (ipykernel)",
   "language": "python",
   "name": "python3"
  },
  "language_info": {
   "codemirror_mode": {
    "name": "ipython",
    "version": 3
   },
   "file_extension": ".py",
   "mimetype": "text/x-python",
   "name": "python",
   "nbconvert_exporter": "python",
   "pygments_lexer": "ipython3",
   "version": "3.9.12"
  }
 },
 "nbformat": 4,
 "nbformat_minor": 5
}
